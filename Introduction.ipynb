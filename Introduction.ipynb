{
 "cells": [
  {
   "cell_type": "markdown",
   "id": "9fb81a92-9bd6-404a-b807-9ded48659492",
   "metadata": {},
   "source": [
    "# Introduction \n",
    "this is my notebook from the Mercury MoIssI programming workshop"
   ]
  },
  {
   "cell_type": "code",
   "execution_count": 1,
   "id": "ed832fad-a09e-4e56-a149-4238985ad810",
   "metadata": {},
   "outputs": [
    {
     "data": {
      "text/plain": [
       "10"
      ]
     },
     "execution_count": 1,
     "metadata": {},
     "output_type": "execute_result"
    }
   ],
   "source": [
    "3 + 7"
   ]
  },
  {
   "cell_type": "code",
   "execution_count": 2,
   "id": "f426db8a-1729-4a7c-a575-be8a048c0277",
   "metadata": {},
   "outputs": [],
   "source": [
    "# variable_name = value\n",
    "deltaH = -541.5 #kJ/mole\n",
    "deltaS = 10.4   #kJ/(mole K)\n",
    "temperature = 298 #Kelvin\n",
    "deltaG = deltaH - temperature*deltaS"
   ]
  },
  {
   "cell_type": "code",
   "execution_count": 3,
   "id": "80b1041c-8bb1-497f-a1d7-7929b505fdf7",
   "metadata": {},
   "outputs": [
    {
     "name": "stdout",
     "output_type": "stream",
     "text": [
      "-3640.7000000000003\n"
     ]
    }
   ],
   "source": [
    "print(deltaG)"
   ]
  },
  {
   "cell_type": "code",
   "execution_count": 4,
   "id": "9452c29d-fe4c-4ffa-b42b-6ead7185a68d",
   "metadata": {},
   "outputs": [
    {
     "name": "stdout",
     "output_type": "stream",
     "text": [
      "-3640.7000000000003\n"
     ]
    }
   ],
   "source": [
    "deltaG*1000\n",
    "print(deltaG)"
   ]
  },
  {
   "cell_type": "code",
   "execution_count": 5,
   "id": "13b657cd-ae0c-4e98-8718-da3c41692026",
   "metadata": {},
   "outputs": [
    {
     "name": "stdout",
     "output_type": "stream",
     "text": [
      "-3640.7000000000003\n",
      "-3640700.0000000005\n"
     ]
    }
   ],
   "source": [
    "deltaG_joules = deltaG*1000\n",
    "print(deltaG)\n",
    "print(deltaG_joules)"
   ]
  },
  {
   "cell_type": "code",
   "execution_count": 6,
   "id": "dc17c903-ce6c-4c9b-ad71-39aa12ed7871",
   "metadata": {},
   "outputs": [
    {
     "name": "stdout",
     "output_type": "stream",
     "text": [
      "-3640.7000000000003\n"
     ]
    }
   ],
   "source": [
    "deltaH, deltaS, temperature = -541.5, 10.4, 298\n",
    "deltaG = deltaH - temperature*deltaS\n",
    "print(deltaG)"
   ]
  },
  {
   "cell_type": "code",
   "execution_count": 7,
   "id": "d6cac4a9-d497-4d8d-95a9-6fb746329756",
   "metadata": {},
   "outputs": [
    {
     "name": "stdout",
     "output_type": "stream",
     "text": [
      "-3640700.0000000005\n",
      "-3640700.0000000005\n"
     ]
    }
   ],
   "source": [
    "deltaG = deltaG*1000\n",
    "print(deltaG)\n",
    "print(deltaG_joules)"
   ]
  },
  {
   "cell_type": "markdown",
   "id": "17ba8117-e7cf-4555-8a59-83bcb7895ae2",
   "metadata": {},
   "source": [
    "## Data Types"
   ]
  },
  {
   "cell_type": "code",
   "execution_count": 8,
   "id": "d5f2f0c3-688b-49d5-a594-f07cfedc0678",
   "metadata": {},
   "outputs": [
    {
     "data": {
      "text/plain": [
       "float"
      ]
     },
     "execution_count": 8,
     "metadata": {},
     "output_type": "execute_result"
    }
   ],
   "source": [
    "type(deltaG)"
   ]
  },
  {
   "cell_type": "code",
   "execution_count": 9,
   "id": "78075f85-1ec1-4b78-9947-741a9ed7c0cf",
   "metadata": {},
   "outputs": [],
   "source": [
    "deltaG_string = str(deltaG)"
   ]
  },
  {
   "cell_type": "code",
   "execution_count": 10,
   "id": "c6e3b8d9-51d8-464d-9ffe-0df963fd995f",
   "metadata": {},
   "outputs": [
    {
     "data": {
      "text/plain": [
       "float"
      ]
     },
     "execution_count": 10,
     "metadata": {},
     "output_type": "execute_result"
    }
   ],
   "source": [
    "type(deltaG)"
   ]
  },
  {
   "cell_type": "code",
   "execution_count": 11,
   "id": "bed89fb2-cb4b-4073-9eaa-0527af957c93",
   "metadata": {},
   "outputs": [],
   "source": [
    "deltaG_string = str(deltaG)"
   ]
  },
  {
   "cell_type": "code",
   "execution_count": 14,
   "id": "21cc0426-841c-457b-ba04-37f515f709c6",
   "metadata": {},
   "outputs": [
    {
     "data": {
      "text/plain": [
       "str"
      ]
     },
     "execution_count": 14,
     "metadata": {},
     "output_type": "execute_result"
    }
   ],
   "source": [
    "type(deltaG_string)"
   ]
  },
  {
   "cell_type": "code",
   "execution_count": 15,
   "id": "f0f326b8-48c7-42dd-aa5b-2b867ca04822",
   "metadata": {},
   "outputs": [
    {
     "name": "stdout",
     "output_type": "stream",
     "text": [
      "-3640700.0000000005\n"
     ]
    }
   ],
   "source": [
    "print(deltaG_string)"
   ]
  },
  {
   "cell_type": "markdown",
   "id": "b89ce49f-4751-4147-8eba-a6833df09b86",
   "metadata": {},
   "source": [
    "## Lists"
   ]
  },
  {
   "cell_type": "code",
   "execution_count": 16,
   "id": "f12e89fd-3a46-4a56-9cda-86c6e5a60985",
   "metadata": {},
   "outputs": [],
   "source": [
    "energy_kcal = [-13.4, -2.7, 5.4, 42.1]"
   ]
  },
  {
   "cell_type": "code",
   "execution_count": 17,
   "id": "126a4077-6116-40e1-8760-45283040a032",
   "metadata": {},
   "outputs": [],
   "source": [
    "energy_length = len(energy_kcal)"
   ]
  },
  {
   "cell_type": "code",
   "execution_count": 18,
   "id": "88bfc772-6e0c-4470-a2a2-13c00a7c20e1",
   "metadata": {},
   "outputs": [
    {
     "name": "stdout",
     "output_type": "stream",
     "text": [
      "4\n"
     ]
    }
   ],
   "source": [
    "print(energy_length)"
   ]
  },
  {
   "cell_type": "code",
   "execution_count": 20,
   "id": "83ce81ca-cc16-4969-882b-7cc78ecf18b3",
   "metadata": {},
   "outputs": [
    {
     "name": "stdout",
     "output_type": "stream",
     "text": [
      "The length of my list is 4 .\n"
     ]
    }
   ],
   "source": [
    "print('The length of my list is', energy_length, '.')"
   ]
  },
  {
   "cell_type": "code",
   "execution_count": 33,
   "id": "23b37cf6-5680-4cad-b668-d9789719b104",
   "metadata": {},
   "outputs": [
    {
     "name": "stdout",
     "output_type": "stream",
     "text": [
      "The length of my list is 4 .\n"
     ]
    }
   ],
   "source": [
    "print('The length of my list is', energy_length, '.')"
   ]
  },
  {
   "cell_type": "code",
   "execution_count": 34,
   "id": "e2d8756c-1507-4761-9338-5151e4d63a2a",
   "metadata": {},
   "outputs": [
    {
     "name": "stdout",
     "output_type": "stream",
     "text": [
      "The length of my list is 4 .\n"
     ]
    }
   ],
   "source": [
    "print('The length of my list is', energy_length, '.')"
   ]
  },
  {
   "cell_type": "code",
   "execution_count": 35,
   "id": "fe1375ef-2c96-42ab-afb2-c7b22e4c6419",
   "metadata": {},
   "outputs": [
    {
     "name": "stdout",
     "output_type": "stream",
     "text": [
      "The length of my list is 4 .\n"
     ]
    }
   ],
   "source": [
    "print('The length of my list is', energy_length, '.')"
   ]
  },
  {
   "cell_type": "code",
   "execution_count": 24,
   "id": "6ae7ee2b-60cb-4aed-bb4d-5583aa8bfdcc",
   "metadata": {},
   "outputs": [
    {
     "name": "stdout",
     "output_type": "stream",
     "text": [
      "[-13.4, -2.7, 5.4, 42.1]\n"
     ]
    }
   ],
   "source": [
    "print(energy_kcal)"
   ]
  },
  {
   "cell_type": "code",
   "execution_count": 25,
   "id": "7ea4537a-5beb-4e26-8cfe-2caa064cc7f2",
   "metadata": {},
   "outputs": [
    {
     "name": "stdout",
     "output_type": "stream",
     "text": [
      "-2.7\n"
     ]
    }
   ],
   "source": [
    "print(energy_kcal[1])"
   ]
  },
  {
   "cell_type": "code",
   "execution_count": 27,
   "id": "d7cb9b76-da46-4eba-b087-ef3c506d338e",
   "metadata": {},
   "outputs": [
    {
     "name": "stdout",
     "output_type": "stream",
     "text": [
      "-11.296800000000001\n"
     ]
    }
   ],
   "source": [
    "energy_kijoules = energy_kcal[1]*4.184\n",
    "print(energy_kijoules)"
   ]
  },
  {
   "cell_type": "markdown",
   "id": "717661ae-344c-4a5c-b288-f8e42b64334e",
   "metadata": {},
   "source": [
    "## Taking slices"
   ]
  },
  {
   "cell_type": "code",
   "execution_count": 28,
   "id": "f7906acd-6ef3-4a9a-b2d9-64c31be15760",
   "metadata": {},
   "outputs": [
    {
     "name": "stdout",
     "output_type": "stream",
     "text": [
      "[-13.4, -2.7]\n"
     ]
    }
   ],
   "source": [
    "#new_list = list_name[start:end]\n",
    "short_list = energy_kcal[0:2]\n",
    "print(short_list)"
   ]
  },
  {
   "cell_type": "code",
   "execution_count": 31,
   "id": "b48ffb77-e8dd-4927-bc43-df756aade24d",
   "metadata": {},
   "outputs": [
    {
     "name": "stdout",
     "output_type": "stream",
     "text": [
      "[-2.7, 5.4, 42.1]\n",
      "[-13.4, -2.7, 5.4]\n"
     ]
    }
   ],
   "source": [
    "slice1 = energy_kcal[1:]\n",
    "slice2 = energy_kcal[:3]\n",
    "print(slice1)\n",
    "print(slice2)"
   ]
  },
  {
   "cell_type": "code",
   "execution_count": 32,
   "id": "84e54498-4b6b-42b6-8b08-1ac5a609afe8",
   "metadata": {},
   "outputs": [
    {
     "name": "stdout",
     "output_type": "stream",
     "text": [
      "[-13.4, -2.7, 5.4, 42.1]\n"
     ]
    }
   ],
   "source": [
    "print(energy_kcal)"
   ]
  },
  {
   "cell_type": "code",
   "execution_count": 36,
   "id": "3c2372d6-c5b6-4662-b2ef-385515f0f5ef",
   "metadata": {},
   "outputs": [
    {
     "name": "stdout",
     "output_type": "stream",
     "text": [
      "-56.0656\n",
      "-11.296800000000001\n",
      "22.593600000000002\n",
      "176.1464\n"
     ]
    }
   ],
   "source": [
    "#for variable in list:\n",
    "#    do things using variable\n",
    "\n",
    "for number in energy_kcal:\n",
    "    kJ = number*4.184\n",
    "    print(kJ)"
   ]
  },
  {
   "cell_type": "code",
   "execution_count": 38,
   "id": "36f54ead-11b6-4963-9b62-457b82cffb59",
   "metadata": {},
   "outputs": [],
   "source": [
    "#list_name.append(new_thing)\n",
    "\n",
    "energy_kJ = []\n",
    "\n",
    "for number in energy_kcal:\n",
    "    kJ = number*4.184\n",
    "    energy_kJ.append(kJ)"
   ]
  },
  {
   "cell_type": "code",
   "execution_count": 39,
   "id": "f9cb2200-7a9d-49c8-86b8-e6a83c938980",
   "metadata": {},
   "outputs": [
    {
     "name": "stdout",
     "output_type": "stream",
     "text": [
      "[-56.0656, -11.296800000000001, 22.593600000000002, 176.1464]\n"
     ]
    }
   ],
   "source": [
    "print(energy_kJ)"
   ]
  },
  {
   "cell_type": "markdown",
   "id": "17500fa3-4864-4550-be2f-61ce3a87adb5",
   "metadata": {},
   "source": [
    "## Making choices using logic in a for loop"
   ]
  },
  {
   "cell_type": "code",
   "execution_count": 41,
   "id": "0239e300-8234-4ef7-962d-3f84dc495fcd",
   "metadata": {},
   "outputs": [
    {
     "name": "stdout",
     "output_type": "stream",
     "text": [
      "[-56.0656, -11.296800000000001]\n"
     ]
    }
   ],
   "source": [
    "negative_energy = []\n",
    "\n",
    "for number in energy_kJ:\n",
    "    if (number < 0):\n",
    "        negative_energy.append(number)\n",
    "        \n",
    "print(negative_energy)"
   ]
  },
  {
   "cell_type": "markdown",
   "id": "6c66c3c8-a707-44e5-aff7-5a7e2c9d46f2",
   "metadata": {},
   "source": [
    "Other conditionals I can use\n",
    "- equal to ==\n",
    "- not equal to !=\n",
    "- greater than >\n",
    "- less than <\n",
    "- greater than or equal to >=\n",
    "- less than of equal to <=\n",
    "\n",
    "I can also use and, or, and not to check more than one condition"
   ]
  },
  {
   "cell_type": "code",
   "execution_count": 42,
   "id": "676ea7b3-0cbc-43ae-ac0a-3e3244b704d4",
   "metadata": {},
   "outputs": [
    {
     "name": "stdout",
     "output_type": "stream",
     "text": [
      "[-56.0656, -11.296800000000001]\n"
     ]
    }
   ],
   "source": [
    "negative_energy = []\n",
    "\n",
    "for number in energy_kJ:\n",
    "    if (number < 0) or number == 0:\n",
    "        negative_energy.append(number)\n",
    "        \n",
    "print(negative_energy)"
   ]
  },
  {
   "cell_type": "code",
   "execution_count": null,
   "id": "38b5d878-bbaa-458b-80bf-173357123ca3",
   "metadata": {},
   "outputs": [],
   "source": []
  }
 ],
 "metadata": {
  "kernelspec": {
   "display_name": "Python 3",
   "language": "python",
   "name": "python3"
  },
  "language_info": {
   "codemirror_mode": {
    "name": "ipython",
    "version": 3
   },
   "file_extension": ".py",
   "mimetype": "text/x-python",
   "name": "python",
   "nbconvert_exporter": "python",
   "pygments_lexer": "ipython3",
   "version": "3.8.8"
  }
 },
 "nbformat": 4,
 "nbformat_minor": 5
}
