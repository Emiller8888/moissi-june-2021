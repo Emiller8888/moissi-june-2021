{
 "cells": [
  {
   "cell_type": "markdown",
   "id": "1b72208e-afb5-46da-952b-4793cac394bd",
   "metadata": {},
   "source": [
    "# File Parsing\n",
    "MoISSI workshop lesson about file parsing"
   ]
  },
  {
   "cell_type": "code",
   "execution_count": 1,
   "id": "539ae851-48b9-4bd1-805b-3aa5fb3f715e",
   "metadata": {},
   "outputs": [
    {
     "data": {
      "text/plain": [
       "'/Users/elizabethmiller/Desktop/cms-workshop'"
      ]
     },
     "execution_count": 1,
     "metadata": {},
     "output_type": "execute_result"
    }
   ],
   "source": [
    "pwd"
   ]
  },
  {
   "cell_type": "raw",
   "id": "1b51f890-ef8f-4ec4-89ba-b543d2d9f8da",
   "metadata": {},
   "source": [
    "import os"
   ]
  },
  {
   "cell_type": "code",
   "execution_count": 3,
   "id": "8b44ee3f-ba14-4995-8d42-593463ea09af",
   "metadata": {},
   "outputs": [],
   "source": [
    "import os"
   ]
  },
  {
   "cell_type": "code",
   "execution_count": 4,
   "id": "dd753441-66b0-4094-a1dc-c5ef4dd5019d",
   "metadata": {},
   "outputs": [
    {
     "name": "stdout",
     "output_type": "stream",
     "text": [
      "data/outfiles/ethanol.out\n"
     ]
    }
   ],
   "source": [
    "ethanol_file = os.path.join('data', 'outfiles', 'ethanol.out')\n",
    "print(ethanol_file)"
   ]
  },
  {
   "cell_type": "code",
   "execution_count": 5,
   "id": "00dbf43c-2400-4aef-b64c-51f8e4e09c70",
   "metadata": {},
   "outputs": [],
   "source": [
    "outfile = open(ethanol_file, 'r')"
   ]
  },
  {
   "cell_type": "code",
   "execution_count": 6,
   "id": "f70dab21-a6ed-4250-954f-a0f21a405f2d",
   "metadata": {},
   "outputs": [],
   "source": [
    "data = outfile.readlines()"
   ]
  },
  {
   "cell_type": "code",
   "execution_count": 7,
   "id": "d6475e4c-eb22-4ae1-874e-2d4763bb75ac",
   "metadata": {},
   "outputs": [
    {
     "name": "stdout",
     "output_type": "stream",
     "text": [
      "['\\n', '    -----------------------------------------------------------------------\\n', '          Psi4: An Open-Source Ab Initio Electronic Structure Package\\n', '                               Psi4 1.1 release\\n', '\\n', '                         Git: Rev {HEAD} add49b9 \\n', '\\n', '\\n', '    R. M. Parrish, L. A. Burns, D. G. A. Smith, A. C. Simmonett,\\n', '    A. E. DePrince III, E. G. Hohenstein, U. Bozkaya, A. Yu. Sokolov,\\n', '    R. Di Remigio, R. M. Richard, J. F. Gonthier, A. M. James,\\n', '    H. R. McAlexander, A. Kumar, M. Saitow, X. Wang, B. P. Pritchard,\\n', '    P. Verma, H. F. Schaefer III, K. Patkowski, R. A. King, E. F. Valeev,\\n', '    F. A. Evangelista, J. M. Turney, T. D. Crawford, and C. D. Sherrill,\\n', '    J. Chem. Theory Comput. in press (2017).\\n', '    (doi: 10.1021/acs.jctc.7b00174)\\n', '\\n', '    -----------------------------------------------------------------------\\n', '\\n', '\\n', '    Psi4 started on: Tuesday, 27 June 2017 12:10PM\\n', '\\n', '    Process ID:  10591\\n', '    PSIDATADIR: /Users/armcdona/psi4conda/share/psi4\\n', '    Memory:     500.0 MiB\\n', '    Threads:    1\\n', '    \\n', '  ==> Input File <==\\n', '\\n', '--------------------------------------------------------------------------\\n', '#! You can write anything you want; this is a test\\n', '\\n', 'molecule ethanol {\\n', 'H        0.011242      0.005860      0.004848\\n', 'C       -0.013516     -0.004055      1.099557\\n', 'H        1.026838      0.005859      1.441119\\n', 'H       -0.508712      0.905913      1.449714\\n', 'C       -0.729377     -1.238026      1.605747\\n', 'H       -1.761756     -1.258491      1.244036\\n', 'H       -0.732480     -1.258491      2.699654\\n', 'O       -0.054692     -2.392519      1.128673\\n', 'H       -0.536299     -3.165575      1.469220\\n', '}\\n', '\\n', 'set basis cc-pVDZ\\n', \"energy('scf')--------------------------------------------------------------------------\\n\", '\\n', '*** tstart() called on csm-armcdona-m1\\n', '*** at Tue Jun 27 12:10:00 2017\\n', '\\n', '   => Loading Basis Set <=\\n', '\\n', '    Name: CC-PVDZ\\n', '    Role: ORBITAL\\n', '    Keyword: BASIS\\n', '    atoms 1, 3-4, 6-7, 9 entry H          line    20 file /Users/armcdona/psi4conda/share/psi4/basis/cc-pvdz.gbs \\n', '    atoms 2, 5           entry C          line   130 file /Users/armcdona/psi4conda/share/psi4/basis/cc-pvdz.gbs \\n', '    atoms 8              entry O          line   190 file /Users/armcdona/psi4conda/share/psi4/basis/cc-pvdz.gbs \\n', '\\n', '    There are an even number of electrons - assuming singlet.\\n', '    Specify the multiplicity in the molecule input block.\\n', '\\n', '\\n', '         ---------------------------------------------------------\\n', '                                   SCF\\n', '            by Justin Turney, Rob Parrish, and Andy Simmonett\\n', '                              RHF Reference\\n', '                        1 Threads,    500 MiB Core\\n', '         ---------------------------------------------------------\\n', '\\n', '  ==> Geometry <==\\n', '\\n', '    Molecular point group: c1\\n', '    Full point group: C1\\n', '\\n', '    Geometry (in Angstrom), charge = 0, multiplicity = 1:\\n', '\\n', '       Center              X                  Y                   Z               Mass       \\n', '    ------------   -----------------  -----------------  -----------------  -----------------\\n', '           H          0.278612764252     1.265047047666    -1.274211449480     1.007825032070\\n', '           C          0.253854764252     1.255132047666    -0.179502449480    12.000000000000\\n', '           H          1.294208764252     1.265046047666     0.162059550520     1.007825032070\\n', '           H         -0.241341235748     2.165100047666     0.170654550520     1.007825032070\\n', '           C         -0.462006235748     0.021161047666     0.326687550520    12.000000000000\\n', '           H         -1.494385235748     0.000696047666    -0.035023449480     1.007825032070\\n', '           H         -0.465109235748     0.000696047666     1.420594550520     1.007825032070\\n', '           O          0.212678764252    -1.133331952334    -0.150386449480    15.994914619560\\n', '           H         -0.268928235748    -1.906387952334     0.190160550520     1.007825032070\\n', '\\n', '  Running in c1 symmetry.\\n', '\\n', '  Rotational constants: A =      1.19639  B =      0.31014  C =      0.27136 [cm^-1]\\n', '  Rotational constants: A =  35866.92932  B =   9297.74675  C =   8135.03541 [MHz]\\n', '  Nuclear repulsion =   81.804973313181932\\n', '\\n', '  Charge       = 0\\n', '  Multiplicity = 1\\n', '  Electrons    = 26\\n', '  Nalpha       = 13\\n', '  Nbeta        = 13\\n', '\\n', '  ==> Algorithm <==\\n', '\\n', '  SCF Algorithm Type is DF.\\n', '  DIIS enabled.\\n', '  MOM disabled.\\n', '  Fractional occupation disabled.\\n', '  Guess Type is SAD.\\n', '  Energy threshold   = 1.00e-06\\n', '  Density threshold  = 1.00e-06\\n', '  Integral threshold = 0.00e+00\\n', '\\n', '  ==> Primary Basis <==\\n', '\\n', '  Basis Set: CC-PVDZ\\n', '    Blend: CC-PVDZ\\n', '    Number of shells: 36\\n', '    Number of basis function: 72\\n', '    Number of Cartesian functions: 75\\n', '    Spherical Harmonics?: true\\n', '    Max angular momentum: 2\\n', '\\n', '   => Loading Basis Set <=\\n', '\\n', '    Name: (CC-PVDZ AUX)\\n', '    Role: JKFIT\\n', '    Keyword: DF_BASIS_SCF\\n', '    atoms 1, 3-4, 6-7, 9 entry H          line    50 file /Users/armcdona/psi4conda/share/psi4/basis/cc-pvdz-jkfit.gbs \\n', '    atoms 2, 5           entry C          line   120 file /Users/armcdona/psi4conda/share/psi4/basis/cc-pvdz-jkfit.gbs \\n', '    atoms 8              entry O          line   220 file /Users/armcdona/psi4conda/share/psi4/basis/cc-pvdz-jkfit.gbs \\n', '\\n', '  ==> Pre-Iterations <==\\n', '\\n', '   -------------------------------------------------------\\n', '    Irrep   Nso     Nmo     Nalpha   Nbeta   Ndocc  Nsocc\\n', '   -------------------------------------------------------\\n', '     A         72      72       0       0       0       0\\n', '   -------------------------------------------------------\\n', '    Total      72      72      13      13      13       0\\n', '   -------------------------------------------------------\\n', '\\n', '  ==> Integral Setup <==\\n', '\\n', '  ==> DFJK: Density-Fitted J/K Matrices <==\\n', '\\n', '    J tasked:                  Yes\\n', '    K tasked:                  Yes\\n', '    wK tasked:                  No\\n', '    OpenMP threads:              1\\n', '    Integrals threads:           1\\n', '    Memory (MB):               375\\n', '    Algorithm:                Core\\n', '    Integral Cache:           NONE\\n', '    Schwarz Cutoff:          1E-12\\n', '    Fitting Condition:       1E-12\\n', '\\n', '   => Auxiliary Basis Set <=\\n', '\\n', '  Basis Set: (CC-PVDZ AUX)\\n', '    Blend: CC-PVDZ-JKFIT\\n', '    Number of shells: 126\\n', '    Number of basis function: 348\\n', '    Number of Cartesian functions: 393\\n', '    Spherical Harmonics?: true\\n', '    Max angular momentum: 3\\n', '\\n', '  Minimum eigenvalue in the overlap matrix is 6.1615207161E-03.\\n', '  Using Symmetric Orthogonalization.\\n', '\\n', '  SCF Guess: Superposition of Atomic Densities via on-the-fly atomic UHF.\\n', '\\n', '  ==> Iterations <==\\n', '\\n', '                           Total Energy        Delta E     RMS |[F,P]|\\n', '\\n', '   @DF-RHF iter   0:  -155.10365249375823   -1.55104e+02   4.53015e-02 \\n', '   @DF-RHF iter   1:  -154.01069491612421    1.09296e+00   4.72706e-03 \\n', '   @DF-RHF iter   2:  -154.08072318140574   -7.00283e-02   1.85857e-03 DIIS\\n', '   @DF-RHF iter   3:  -154.08948719255255   -8.76401e-03   6.74889e-04 DIIS\\n', '   @DF-RHF iter   4:  -154.09117177055145   -1.68458e-03   1.58963e-04 DIIS\\n', '   @DF-RHF iter   5:  -154.09128893560870   -1.17165e-04   4.54749e-05 DIIS\\n', '   @DF-RHF iter   6:  -154.09130079349944   -1.18579e-05   1.31995e-05 DIIS\\n', '   @DF-RHF iter   7:  -154.09130170057145   -9.07072e-07   2.83994e-06 DIIS\\n', '   @DF-RHF iter   8:  -154.09130176573018   -6.51587e-08   7.05545e-07 DIIS\\n', '\\n', '  ==> Post-Iterations <==\\n', '\\n', '    Orbital Energies (a.u.)\\n', '    -----------------------\\n', '\\n', '    Doubly Occupied:                                                      \\n', '\\n', '       1A    -20.546800     2A    -11.275095     3A    -11.219194  \\n', '       4A     -1.348904     5A     -1.008482     6A     -0.830928  \\n', '       7A     -0.687787     8A     -0.642241     9A     -0.566722  \\n', '      10A     -0.530314    11A     -0.519527    12A     -0.481883  \\n', '      13A     -0.433845  \\n', '\\n', '    Virtual:                                                              \\n', '\\n', '      14A      0.180940    15A      0.215018    16A      0.246070  \\n', '      17A      0.251127    18A      0.267963    19A      0.292938  \\n', '      20A      0.381996    21A      0.396231    22A      0.603706  \\n', '      23A      0.615847    24A      0.664225    25A      0.752044  \\n', '      26A      0.757291    27A      0.804155    28A      0.864841  \\n', '      29A      0.872855    30A      0.889502    31A      0.896591  \\n', '      32A      0.907855    33A      0.940941    34A      1.131195  \\n', '      35A      1.155522    36A      1.172297    37A      1.258058  \\n', '      38A      1.331160    39A      1.426371    40A      1.468358  \\n', '      41A      1.517174    42A      1.567678    43A      1.599506  \\n', '      44A      1.691808    45A      1.783132    46A      1.866083  \\n', '      47A      1.890906    48A      1.892378    49A      1.915291  \\n', '      50A      1.939375    51A      1.972358    52A      1.983727  \\n', '      53A      2.003589    54A      2.100718    55A      2.199911  \\n', '      56A      2.243703    57A      2.282336    58A      2.316926  \\n', '      59A      2.469974    60A      2.516843    61A      2.524986  \\n', '      62A      2.586064    63A      2.756948    64A      2.775491  \\n', '      65A      2.808122    66A      2.899507    67A      2.915802  \\n', '      68A      3.330513    69A      3.407987    70A      3.474254  \\n', '      71A      3.601498    72A      4.107129  \\n', '\\n', '    Final Occupation by Irrep:\\n', '              A \\n', '    DOCC [    13 ]\\n', '\\n', '  Energy converged.\\n', '\\n', '  @DF-RHF Final Energy:  -154.09130176573018\\n', '\\n', '   => Energetics <=\\n', '\\n', '    Nuclear Repulsion Energy =             81.8049733131819323\\n', '    One-Electron Energy =                -371.6091065733360210\\n', '    Two-Electron Energy =                 135.7128314944239378\\n', '    DFT Exchange-Correlation Energy =       0.0000000000000000\\n', '    Empirical Dispersion Energy =           0.0000000000000000\\n', '    PCM Polarization Energy =               0.0000000000000000\\n', '    EFP Energy =                            0.0000000000000000\\n', '    Total Energy =                       -154.0913017657301793\\n', '\\n', '\\n', '\\n', 'Properties will be evaluated at   0.000000,   0.000000,   0.000000 Bohr\\n', '\\n', 'Properties computed using the SCF density matrix\\n', '\\n', '  Nuclear Dipole Moment: (a.u.)\\n', '     X:    -0.8398      Y:     2.6103      Z:     0.5939\\n', '\\n', '  Electronic Dipole Moment: (a.u.)\\n', '     X:     0.2905      Y:    -2.6019      Z:    -0.2054\\n', '\\n', '  Dipole Moment: (a.u.)\\n', '     X:    -0.5493      Y:     0.0084      Z:     0.3884     Total:     0.6728\\n', '\\n', '  Dipole Moment: (Debye)\\n', '     X:    -1.3962      Y:     0.0213      Z:     0.9873     Total:     1.7101\\n', '\\n', '\\n', '*** tstop() called on csm-armcdona-m1 at Tue Jun 27 12:10:01 2017\\n', 'Module time:\\n', '\\tuser time   =       1.10 seconds =       0.02 minutes\\n', '\\tsystem time =       0.06 seconds =       0.00 minutes\\n', '\\ttotal time  =          1 seconds =       0.02 minutes\\n', 'Total time:\\n', '\\tuser time   =       1.10 seconds =       0.02 minutes\\n', '\\tsystem time =       0.06 seconds =       0.00 minutes\\n', '\\ttotal time  =          1 seconds =       0.02 minutes\\n', '\\n', '*** Psi4 exiting successfully. Buy a developer a beer!\\n']\n"
     ]
    }
   ],
   "source": [
    "print(data)"
   ]
  },
  {
   "cell_type": "code",
   "execution_count": 8,
   "id": "38a02885-f3a9-4517-8558-c229f68da024",
   "metadata": {},
   "outputs": [],
   "source": [
    "outfile.close()"
   ]
  },
  {
   "cell_type": "code",
   "execution_count": 9,
   "id": "3973d222-3905-4de7-ac8d-e67673052d20",
   "metadata": {},
   "outputs": [
    {
     "name": "stdout",
     "output_type": "stream",
     "text": [
      "270\n"
     ]
    }
   ],
   "source": [
    "print(len(data))"
   ]
  },
  {
   "cell_type": "code",
   "execution_count": 10,
   "id": "b0bf47cc-c80f-4060-9483-82b50c968a61",
   "metadata": {},
   "outputs": [
    {
     "name": "stdout",
     "output_type": "stream",
     "text": [
      " There are 270 lines in the file.\n"
     ]
    }
   ],
   "source": [
    "number_lines = len(data)\n",
    "print(F' There are {number_lines} lines in the file.')"
   ]
  },
  {
   "cell_type": "code",
   "execution_count": 11,
   "id": "24537900-983b-4f3a-8f7e-e76f4cc59989",
   "metadata": {},
   "outputs": [
    {
     "name": "stdout",
     "output_type": "stream",
     "text": [
      "  @DF-RHF Final Energy:  -154.09130176573018\n",
      "\n"
     ]
    }
   ],
   "source": [
    "for line in data:\n",
    "    if 'Final Energy' in line:\n",
    "        energy_line = line\n",
    "        print(energy_line)"
   ]
  },
  {
   "cell_type": "code",
   "execution_count": 12,
   "id": "4024e78c-c6e2-4687-a4b0-1f6a384eb47c",
   "metadata": {},
   "outputs": [
    {
     "name": "stdout",
     "output_type": "stream",
     "text": [
      "['@DF-RHF', 'Final', 'Energy:', '-154.09130176573018']\n"
     ]
    }
   ],
   "source": [
    "words = energy_line.split()\n",
    "print(words)"
   ]
  },
  {
   "cell_type": "code",
   "execution_count": 13,
   "id": "4cbcbd88-e4a9-46e5-8ed8-c0ded0acbc2d",
   "metadata": {},
   "outputs": [
    {
     "name": "stdout",
     "output_type": "stream",
     "text": [
      "-154.09130176573018\n"
     ]
    }
   ],
   "source": [
    "energy = words[3]\n",
    "print(energy)"
   ]
  },
  {
   "cell_type": "code",
   "execution_count": 14,
   "id": "90f3916a-5836-4b1a-b146-ecede219c6fd",
   "metadata": {},
   "outputs": [
    {
     "data": {
      "text/plain": [
       "str"
      ]
     },
     "execution_count": 14,
     "metadata": {},
     "output_type": "execute_result"
    }
   ],
   "source": [
    "type(energy)"
   ]
  },
  {
   "cell_type": "code",
   "execution_count": 15,
   "id": "012beadf-6614-435d-8434-a22e1ba14919",
   "metadata": {},
   "outputs": [],
   "source": [
    "energy = float(energy)"
   ]
  },
  {
   "cell_type": "code",
   "execution_count": 16,
   "id": "97f3238a-14ec-4c9c-bcc1-3de134c6271b",
   "metadata": {},
   "outputs": [
    {
     "data": {
      "text/plain": [
       "-104.09130176573018"
      ]
     },
     "execution_count": 16,
     "metadata": {},
     "output_type": "execute_result"
    }
   ],
   "source": [
    "energy + 50"
   ]
  },
  {
   "cell_type": "code",
   "execution_count": 17,
   "id": "a7517018-3f63-4f48-b99c-93254ef828fb",
   "metadata": {},
   "outputs": [],
   "source": [
    "import glob"
   ]
  },
  {
   "cell_type": "code",
   "execution_count": 18,
   "id": "c5c22646-db1f-4caa-a7ea-6e37a77c0a1f",
   "metadata": {},
   "outputs": [
    {
     "name": "stdout",
     "output_type": "stream",
     "text": [
      "data/outfiles/*.out\n"
     ]
    }
   ],
   "source": [
    "file_location = os.path.join('data', 'outfiles', '*.out')\n",
    "print(file_location)"
   ]
  },
  {
   "cell_type": "code",
   "execution_count": 19,
   "id": "8850164a-032e-4c9b-a1cf-11c9e1d7fd31",
   "metadata": {},
   "outputs": [
    {
     "name": "stdout",
     "output_type": "stream",
     "text": [
      "['data/outfiles/propanol.out', 'data/outfiles/pentanol.out', 'data/outfiles/decanol.out', 'data/outfiles/methanol.out', 'data/outfiles/octanol.out', 'data/outfiles/ethanol.out', 'data/outfiles/hexanol.out', 'data/outfiles/heptanol.out', 'data/outfiles/butanol.out', 'data/outfiles/nonanol.out']\n"
     ]
    }
   ],
   "source": [
    "filenames = glob.glob(file_location)\n",
    "print(filenames)"
   ]
  },
  {
   "cell_type": "code",
   "execution_count": 20,
   "id": "736c371f-da24-4810-97d5-a14cb1218a63",
   "metadata": {},
   "outputs": [
    {
     "name": "stdout",
     "output_type": "stream",
     "text": [
      "-193.12836249728798\n",
      "-271.20138119895074\n",
      "-466.3836241400086\n",
      "-115.04800861868374\n",
      "-388.3110864554743\n",
      "-154.09130176573018\n",
      "-310.2385332251633\n",
      "-349.27397687072676\n",
      "-232.1655798347283\n",
      "-427.3465180082815\n"
     ]
    }
   ],
   "source": [
    "for file in filenames:\n",
    "    outfile = open(file, 'r')\n",
    "    data = outfile.readlines()\n",
    "    outfile.close()\n",
    "    for line in data:\n",
    "        if 'Final Energy' in line:\n",
    "            energy_line = line\n",
    "            words = energy_line.split()\n",
    "            energy = float(words[3])\n",
    "            print(energy)"
   ]
  },
  {
   "cell_type": "code",
   "execution_count": 21,
   "id": "1b4c3eb2-443d-407b-bc49-0d494973ed9c",
   "metadata": {},
   "outputs": [
    {
     "name": "stdout",
     "output_type": "stream",
     "text": [
      "data/outfiles/propanol.out\n"
     ]
    }
   ],
   "source": [
    "first_file = filenames[0]\n",
    "print(first_file)"
   ]
  },
  {
   "cell_type": "code",
   "execution_count": 22,
   "id": "2f469322-bb0b-47fe-8815-dc20b14c45ba",
   "metadata": {},
   "outputs": [],
   "source": [
    "file_name = os.path.basename(first_file)"
   ]
  },
  {
   "cell_type": "code",
   "execution_count": 23,
   "id": "9ac6bd62-5c78-4a31-886a-a3e572b6cd4d",
   "metadata": {},
   "outputs": [
    {
     "name": "stdout",
     "output_type": "stream",
     "text": [
      "propanol.out\n"
     ]
    }
   ],
   "source": [
    "print(file_name)"
   ]
  },
  {
   "cell_type": "code",
   "execution_count": 24,
   "id": "5dfbbe2e-2592-40f0-b64d-acc9740f42bc",
   "metadata": {},
   "outputs": [
    {
     "name": "stdout",
     "output_type": "stream",
     "text": [
      "['propanol', 'out']\n",
      "propanol\n"
     ]
    }
   ],
   "source": [
    "split_filename = file_name.split('.')\n",
    "print(split_filename)\n",
    "molecule_name = split_filename[0]\n",
    "print(molecule_name)"
   ]
  },
  {
   "cell_type": "code",
   "execution_count": 28,
   "id": "c510f893-d34c-4323-8796-ca494b1f91ee",
   "metadata": {},
   "outputs": [
    {
     "name": "stdout",
     "output_type": "stream",
     "text": [
      " propanol \t -193.1284\n",
      " pentanol \t -271.2014\n",
      " decanol \t -466.3836\n",
      " methanol \t -115.0480\n",
      " octanol \t -388.3111\n",
      " ethanol \t -154.0913\n",
      " hexanol \t -310.2385\n",
      " heptanol \t -349.2740\n",
      " butanol \t -232.1656\n",
      " nonanol \t -427.3465\n"
     ]
    }
   ],
   "source": [
    "for file in filenames:\n",
    "    file_name = os.path.basename(file)\n",
    "    split_filename = file_name.split('.')\n",
    "    molecule_name = split_filename[0]\n",
    "    \n",
    "    outfile = open(file, 'r')\n",
    "    data = outfile.readlines()\n",
    "    outfile.close()\n",
    "    for line in data:\n",
    "        if 'Final Energy' in line:\n",
    "            energy_line = line\n",
    "            words = energy_line.split()\n",
    "            energy = float(words[3])\n",
    "            print(F' {molecule_name} \\t {energy: .4f}')"
   ]
  },
  {
   "cell_type": "code",
   "execution_count": 29,
   "id": "e781e975-5f3e-4b2d-a064-812131e14639",
   "metadata": {},
   "outputs": [],
   "source": [
    "datafile = open('energies.txt', 'w+')\n",
    "for file in filenames:\n",
    "    file_name = os.path.basename(file)\n",
    "    split_filename = file_name.split('.')\n",
    "    molecule_name = split_filename[0]\n",
    "    \n",
    "    outfile = open(file, 'r')\n",
    "    data = outfile.readlines()\n",
    "    outfile.close()\n",
    "    for line in data:\n",
    "        if 'Final Energy' in line:\n",
    "            energy_line = line\n",
    "            words = energy_line.split()\n",
    "            energy = float(words[3])\n",
    "            datafile.write(F' {molecule_name} \\t {energy: .4f} \\n')\n",
    "datafile.close()"
   ]
  },
  {
   "cell_type": "markdown",
   "id": "4f6d0f1d-64a2-4373-bb1a-b70c211a4e1d",
   "metadata": {},
   "source": [
    "# Homework\n",
    "parse the file 03_Prod.mdout(in the data folder) Find every instance of Etot(one of each timestep), save them to a list, print them to a file"
   ]
  },
  {
   "cell_type": "code",
   "execution_count": 30,
   "id": "39770d49-6bc4-480d-a923-0388ab3574e2",
   "metadata": {},
   "outputs": [
    {
     "data": {
      "text/plain": [
       "'/Users/elizabethmiller/Desktop/cms-workshop'"
      ]
     },
     "execution_count": 30,
     "metadata": {},
     "output_type": "execute_result"
    }
   ],
   "source": [
    "pwd"
   ]
  },
  {
   "cell_type": "code",
   "execution_count": 31,
   "id": "190c98b4-331d-4ee6-ae6a-f97648414399",
   "metadata": {},
   "outputs": [],
   "source": [
    "import os"
   ]
  },
  {
   "cell_type": "code",
   "execution_count": 32,
   "id": "c2db281c-ee7a-46a3-ac25-d490c501fcc5",
   "metadata": {},
   "outputs": [
    {
     "name": "stdout",
     "output_type": "stream",
     "text": [
      "data/03_Prod.mdout\n"
     ]
    }
   ],
   "source": [
    "totalenergy_file = os.path.join('data','03_Prod.mdout')\n",
    "print(totalenergy_file)"
   ]
  },
  {
   "cell_type": "code",
   "execution_count": 36,
   "id": "f2efff84-03c2-4b1f-af70-5cd1b4ee2669",
   "metadata": {},
   "outputs": [],
   "source": [
    "outfile = open(totalenergy_file, 'r')"
   ]
  },
  {
   "cell_type": "code",
   "execution_count": 37,
   "id": "6869096e-7eb3-4ba6-b835-38d08d4f61f8",
   "metadata": {},
   "outputs": [],
   "source": [
    "data = outfile.readlines()"
   ]
  },
  {
   "cell_type": "code",
   "execution_count": null,
   "id": "21913366-1f8a-4b13-be33-262cfc481382",
   "metadata": {},
   "outputs": [],
   "source": [
    "print(data)"
   ]
  },
  {
   "cell_type": "code",
   "execution_count": 39,
   "id": "99f3b2d4-b5fd-4951-8083-935a480a9e01",
   "metadata": {},
   "outputs": [],
   "source": [
    "outfile.close()"
   ]
  },
  {
   "cell_type": "code",
   "execution_count": 40,
   "id": "a71691bf-ffdd-426d-898c-ea139b0eae52",
   "metadata": {},
   "outputs": [
    {
     "name": "stdout",
     "output_type": "stream",
     "text": [
      " There are 3547 lines in the file.\n"
     ]
    }
   ],
   "source": [
    "number_lines = len(data)\n",
    "print(F' There are {number_lines} lines in the file.')"
   ]
  },
  {
   "cell_type": "code",
   "execution_count": 41,
   "id": "3422ef0f-6e7e-42a7-95d8-1c5e6da03da1",
   "metadata": {},
   "outputs": [
    {
     "name": "stdout",
     "output_type": "stream",
     "text": [
      " Etot   =     -4585.1049  EKtot   =      1129.2368  EPtot      =     -5714.3417\n",
      "\n",
      " Etot   =     -4573.5326  EKtot   =      1123.1819  EPtot      =     -5696.7145\n",
      "\n",
      " Etot   =     -4548.1223  EKtot   =      1123.6104  EPtot      =     -5671.7327\n",
      "\n",
      " Etot   =     -4525.3410  EKtot   =      1152.9356  EPtot      =     -5678.2766\n",
      "\n",
      " Etot   =     -4542.8995  EKtot   =      1195.0457  EPtot      =     -5737.9452\n",
      "\n",
      " Etot   =     -4550.9376  EKtot   =      1133.2230  EPtot      =     -5684.1606\n",
      "\n",
      " Etot   =     -4543.8652  EKtot   =      1118.8473  EPtot      =     -5662.7126\n",
      "\n",
      " Etot   =     -4570.4109  EKtot   =      1136.4038  EPtot      =     -5706.8147\n",
      "\n",
      " Etot   =     -4550.4225  EKtot   =      1157.3419  EPtot      =     -5707.7644\n",
      "\n",
      " Etot   =     -4585.2078  EKtot   =      1143.6728  EPtot      =     -5728.8806\n",
      "\n",
      " Etot   =     -4577.3788  EKtot   =      1151.0236  EPtot      =     -5728.4024\n",
      "\n",
      " Etot   =     -4583.5594  EKtot   =      1106.9123  EPtot      =     -5690.4717\n",
      "\n",
      " Etot   =     -4605.5086  EKtot   =      1140.0716  EPtot      =     -5745.5802\n",
      "\n",
      " Etot   =     -4615.4200  EKtot   =      1118.6824  EPtot      =     -5734.1024\n",
      "\n",
      " Etot   =     -4583.6069  EKtot   =      1156.5875  EPtot      =     -5740.1944\n",
      "\n",
      " Etot   =     -4534.2492  EKtot   =      1167.4264  EPtot      =     -5701.6757\n",
      "\n",
      " Etot   =     -4571.4911  EKtot   =      1157.0870  EPtot      =     -5728.5781\n",
      "\n",
      " Etot   =     -4580.2937  EKtot   =      1126.3261  EPtot      =     -5706.6198\n",
      "\n",
      " Etot   =     -4555.4327  EKtot   =      1153.9484  EPtot      =     -5709.3811\n",
      "\n",
      " Etot   =     -4567.5687  EKtot   =      1169.6406  EPtot      =     -5737.2093\n",
      "\n",
      " Etot   =     -4566.0038  EKtot   =      1154.9814  EPtot      =     -5720.9853\n",
      "\n",
      " Etot   =     -4547.9737  EKtot   =      1173.2968  EPtot      =     -5721.2705\n",
      "\n",
      " Etot   =     -4603.6717  EKtot   =      1134.7780  EPtot      =     -5738.4497\n",
      "\n",
      " Etot   =     -4611.0889  EKtot   =      1142.7515  EPtot      =     -5753.8404\n",
      "\n",
      " Etot   =     -4694.2189  EKtot   =      1116.0395  EPtot      =     -5810.2584\n",
      "\n",
      " Etot   =     -4678.6558  EKtot   =      1108.3676  EPtot      =     -5787.0234\n",
      "\n",
      " Etot   =     -4679.2889  EKtot   =      1126.0175  EPtot      =     -5805.3064\n",
      "\n",
      " Etot   =     -4650.4214  EKtot   =      1139.7241  EPtot      =     -5790.1455\n",
      "\n",
      " Etot   =     -4637.4849  EKtot   =      1110.2712  EPtot      =     -5747.7561\n",
      "\n",
      " Etot   =     -4677.2461  EKtot   =      1130.0805  EPtot      =     -5807.3266\n",
      "\n",
      " Etot   =     -4659.6974  EKtot   =      1120.9589  EPtot      =     -5780.6562\n",
      "\n",
      " Etot   =     -4592.8300  EKtot   =      1183.9831  EPtot      =     -5776.8131\n",
      "\n",
      " Etot   =     -4622.1237  EKtot   =      1127.7685  EPtot      =     -5749.8922\n",
      "\n",
      " Etot   =     -4626.0868  EKtot   =      1101.2741  EPtot      =     -5727.3610\n",
      "\n",
      " Etot   =     -4614.5996  EKtot   =      1139.9390  EPtot      =     -5754.5386\n",
      "\n",
      " Etot   =     -4625.5348  EKtot   =      1097.6044  EPtot      =     -5723.1392\n",
      "\n",
      " Etot   =     -4569.7752  EKtot   =      1159.0837  EPtot      =     -5728.8589\n",
      "\n",
      " Etot   =     -4625.0792  EKtot   =      1163.3118  EPtot      =     -5788.3910\n",
      "\n",
      " Etot   =     -4653.4614  EKtot   =      1117.6305  EPtot      =     -5771.0919\n",
      "\n",
      " Etot   =     -4637.6852  EKtot   =      1158.5948  EPtot      =     -5796.2799\n",
      "\n",
      " Etot   =     -4643.8673  EKtot   =      1186.6902  EPtot      =     -5830.5575\n",
      "\n",
      " Etot   =     -4619.5255  EKtot   =      1213.2531  EPtot      =     -5832.7786\n",
      "\n",
      " Etot   =     -4663.3843  EKtot   =      1144.9781  EPtot      =     -5808.3624\n",
      "\n",
      " Etot   =     -4631.8386  EKtot   =      1145.6734  EPtot      =     -5777.5120\n",
      "\n",
      " Etot   =     -4680.3524  EKtot   =      1130.1175  EPtot      =     -5810.4699\n",
      "\n",
      " Etot   =     -4722.1579  EKtot   =      1100.7520  EPtot      =     -5822.9099\n",
      "\n",
      " Etot   =     -4696.5022  EKtot   =      1168.5589  EPtot      =     -5865.0611\n",
      "\n",
      " Etot   =     -4729.6126  EKtot   =      1110.2692  EPtot      =     -5839.8819\n",
      "\n",
      " Etot   =     -4703.1835  EKtot   =      1140.5709  EPtot      =     -5843.7544\n",
      "\n",
      " Etot   =     -4707.8668  EKtot   =      1149.5232  EPtot      =     -5857.3900\n",
      "\n",
      " Etot   =     -4660.0768  EKtot   =      1158.4555  EPtot      =     -5818.5323\n",
      "\n",
      " Etot   =     -4673.0967  EKtot   =      1129.2495  EPtot      =     -5802.3463\n",
      "\n",
      " Etot   =     -4656.3795  EKtot   =      1173.4205  EPtot      =     -5829.8000\n",
      "\n",
      " Etot   =     -4627.9210  EKtot   =      1166.4710  EPtot      =     -5794.3921\n",
      "\n",
      " Etot   =     -4599.7806  EKtot   =      1138.7456  EPtot      =     -5738.5263\n",
      "\n",
      " Etot   =     -4648.8831  EKtot   =      1153.2905  EPtot      =     -5802.1736\n",
      "\n",
      " Etot   =     -4649.4773  EKtot   =      1152.2197  EPtot      =     -5801.6970\n",
      "\n",
      " Etot   =     -4665.3345  EKtot   =      1186.6954  EPtot      =     -5852.0299\n",
      "\n",
      " Etot   =     -4693.9727  EKtot   =      1163.2042  EPtot      =     -5857.1769\n",
      "\n",
      " Etot   =     -4726.4832  EKtot   =      1125.1422  EPtot      =     -5851.6254\n",
      "\n",
      " Etot   =     -4744.9909  EKtot   =      1133.8965  EPtot      =     -5878.8874\n",
      "\n",
      " Etot   =     -4788.9469  EKtot   =      1084.9666  EPtot      =     -5873.9135\n",
      "\n",
      " Etot   =     -4724.8673  EKtot   =      1153.0182  EPtot      =     -5877.8855\n",
      "\n",
      " Etot   =     -4724.9143  EKtot   =      1108.2021  EPtot      =     -5833.1164\n",
      "\n",
      " Etot   =     -4685.3320  EKtot   =      1191.6041  EPtot      =     -5876.9361\n",
      "\n",
      " Etot   =     -4721.0018  EKtot   =      1131.6618  EPtot      =     -5852.6636\n",
      "\n",
      " Etot   =     -4755.1232  EKtot   =      1138.8440  EPtot      =     -5893.9672\n",
      "\n",
      " Etot   =     -4810.7441  EKtot   =      1127.0180  EPtot      =     -5937.7621\n",
      "\n",
      " Etot   =     -4796.7949  EKtot   =      1129.0026  EPtot      =     -5925.7974\n",
      "\n",
      " Etot   =     -4737.2496  EKtot   =      1141.1042  EPtot      =     -5878.3538\n",
      "\n",
      " Etot   =     -4735.1629  EKtot   =      1148.6135  EPtot      =     -5883.7764\n",
      "\n",
      " Etot   =     -4733.8855  EKtot   =      1181.5072  EPtot      =     -5915.3927\n",
      "\n",
      " Etot   =     -4781.2227  EKtot   =      1149.1089  EPtot      =     -5930.3315\n",
      "\n",
      " Etot   =     -4789.1473  EKtot   =      1149.4247  EPtot      =     -5938.5720\n",
      "\n",
      " Etot   =     -4813.7562  EKtot   =      1138.1117  EPtot      =     -5951.8679\n",
      "\n",
      " Etot   =     -4817.4775  EKtot   =      1160.1149  EPtot      =     -5977.5925\n",
      "\n",
      " Etot   =     -4822.1009  EKtot   =      1146.4864  EPtot      =     -5968.5873\n",
      "\n",
      " Etot   =     -4788.4856  EKtot   =      1182.8668  EPtot      =     -5971.3523\n",
      "\n",
      " Etot   =     -4816.5778  EKtot   =      1139.4830  EPtot      =     -5956.0608\n",
      "\n",
      " Etot   =     -4843.6187  EKtot   =      1140.7005  EPtot      =     -5984.3193\n",
      "\n",
      " Etot   =     -4867.3389  EKtot   =      1093.2541  EPtot      =     -5960.5931\n",
      "\n",
      " Etot   =     -4829.6258  EKtot   =      1168.3149  EPtot      =     -5997.9407\n",
      "\n",
      " Etot   =     -4839.4063  EKtot   =      1160.0801  EPtot      =     -5999.4864\n",
      "\n",
      " Etot   =     -4856.7404  EKtot   =      1129.1715  EPtot      =     -5985.9119\n",
      "\n",
      " Etot   =     -4827.9999  EKtot   =      1124.5992  EPtot      =     -5952.5991\n",
      "\n",
      " Etot   =     -4789.4960  EKtot   =      1161.0883  EPtot      =     -5950.5844\n",
      "\n",
      " Etot   =     -4807.4737  EKtot   =      1132.6845  EPtot      =     -5940.1583\n",
      "\n",
      " Etot   =     -4822.8427  EKtot   =      1142.6423  EPtot      =     -5965.4851\n",
      "\n",
      " Etot   =     -4841.7963  EKtot   =      1146.3877  EPtot      =     -5988.1840\n",
      "\n",
      " Etot   =     -4852.5445  EKtot   =      1145.4662  EPtot      =     -5998.0107\n",
      "\n",
      " Etot   =     -4794.1774  EKtot   =      1182.9466  EPtot      =     -5977.1240\n",
      "\n",
      " Etot   =     -4795.4408  EKtot   =      1154.7639  EPtot      =     -5950.2048\n",
      "\n",
      " Etot   =     -4843.1092  EKtot   =      1139.4324  EPtot      =     -5982.5416\n",
      "\n",
      " Etot   =     -4861.5219  EKtot   =      1118.8268  EPtot      =     -5980.3487\n",
      "\n",
      " Etot   =     -4861.1394  EKtot   =      1136.7655  EPtot      =     -5997.9049\n",
      "\n",
      " Etot   =     -4874.9262  EKtot   =      1130.2118  EPtot      =     -6005.1380\n",
      "\n",
      " Etot   =     -4895.8931  EKtot   =      1150.6374  EPtot      =     -6046.5305\n",
      "\n",
      " Etot   =     -4925.8895  EKtot   =      1104.3625  EPtot      =     -6030.2520\n",
      "\n",
      " Etot   =     -4973.8736  EKtot   =      1089.6027  EPtot      =     -6063.4763\n",
      "\n",
      " Etot   =     -4988.7908  EKtot   =      1108.4609  EPtot      =     -6097.2517\n",
      "\n",
      " Etot   =     -4945.5981  EKtot   =      1118.2172  EPtot      =     -6063.8153\n",
      "\n",
      " Etot   =     -4916.3219  EKtot   =      1142.4207  EPtot      =     -6058.7426\n",
      "\n",
      " Etot   =     -4921.4063  EKtot   =      1157.8608  EPtot      =     -6079.2671\n",
      "\n",
      " Etot   =     -4911.1395  EKtot   =      1131.8286  EPtot      =     -6042.9680\n",
      "\n",
      " Etot   =     -4874.5853  EKtot   =      1155.4858  EPtot      =     -6030.0711\n",
      "\n",
      " Etot   =     -4874.5310  EKtot   =      1188.7832  EPtot      =     -6063.3141\n",
      "\n",
      " Etot   =     -4881.8810  EKtot   =      1167.7157  EPtot      =     -6049.5968\n",
      "\n",
      " Etot   =     -4891.6363  EKtot   =      1149.7359  EPtot      =     -6041.3722\n",
      "\n",
      " Etot   =     -4896.9142  EKtot   =      1144.7693  EPtot      =     -6041.6835\n",
      "\n",
      " Etot   =     -4912.6121  EKtot   =      1103.6727  EPtot      =     -6016.2848\n",
      "\n",
      " Etot   =     -4904.3068  EKtot   =      1104.7049  EPtot      =     -6009.0116\n",
      "\n",
      " Etot   =     -4929.8410  EKtot   =      1136.8052  EPtot      =     -6066.6462\n",
      "\n",
      " Etot   =     -4953.1665  EKtot   =      1142.2937  EPtot      =     -6095.4602\n",
      "\n",
      " Etot   =     -4984.0176  EKtot   =      1134.3505  EPtot      =     -6118.3681\n",
      "\n",
      " Etot   =     -4980.7061  EKtot   =      1088.7489  EPtot      =     -6069.4551\n",
      "\n",
      " Etot   =     -4938.8474  EKtot   =      1150.8259  EPtot      =     -6089.6732\n",
      "\n",
      " Etot   =     -4963.1656  EKtot   =      1108.2904  EPtot      =     -6071.4560\n",
      "\n",
      " Etot   =     -4955.5246  EKtot   =      1125.6905  EPtot      =     -6081.2151\n",
      "\n",
      " Etot   =     -4906.5723  EKtot   =      1173.3854  EPtot      =     -6079.9577\n",
      "\n",
      " Etot   =     -4930.7026  EKtot   =      1119.6686  EPtot      =     -6050.3713\n",
      "\n",
      " Etot   =     -4928.7367  EKtot   =      1156.1756  EPtot      =     -6084.9123\n",
      "\n",
      " Etot   =     -4857.1610  EKtot   =      1164.3343  EPtot      =     -6021.4953\n",
      "\n",
      " Etot   =     -4886.8174  EKtot   =      1103.8429  EPtot      =     -5990.6602\n",
      "\n",
      " Etot   =     -4817.6888  EKtot   =      1181.5562  EPtot      =     -5999.2450\n",
      "\n",
      " Etot   =     -4872.9481  EKtot   =      1159.0410  EPtot      =     -6031.9891\n",
      "\n",
      " Etot   =     -4894.4047  EKtot   =      1167.5429  EPtot      =     -6061.9476\n",
      "\n",
      " Etot   =     -4885.6957  EKtot   =      1129.1860  EPtot      =     -6014.8817\n",
      "\n",
      " Etot   =     -4923.2417  EKtot   =      1150.5623  EPtot      =     -6073.8040\n",
      "\n",
      " Etot   =     -4897.3522  EKtot   =      1134.7965  EPtot      =     -6032.1487\n",
      "\n",
      " Etot   =     -4892.6689  EKtot   =      1149.7881  EPtot      =     -6042.4570\n",
      "\n",
      " Etot   =     -4893.3622  EKtot   =      1129.5232  EPtot      =     -6022.8854\n",
      "\n",
      " Etot   =     -4838.7241  EKtot   =      1182.6674  EPtot      =     -6021.3915\n",
      "\n",
      " Etot   =     -4836.7701  EKtot   =      1154.6222  EPtot      =     -5991.3923\n",
      "\n",
      " Etot   =     -4760.9359  EKtot   =      1159.2989  EPtot      =     -5920.2348\n",
      "\n",
      " Etot   =     -4784.3831  EKtot   =      1185.3336  EPtot      =     -5969.7167\n",
      "\n",
      " Etot   =     -4744.1472  EKtot   =      1192.4457  EPtot      =     -5936.5929\n",
      "\n",
      " Etot   =     -4728.4061  EKtot   =      1186.6833  EPtot      =     -5915.0894\n",
      "\n",
      " Etot   =     -4750.2233  EKtot   =      1217.8304  EPtot      =     -5968.0536\n",
      "\n",
      " Etot   =     -4867.9914  EKtot   =      1181.1571  EPtot      =     -6049.1485\n",
      "\n",
      " Etot   =     -4923.5577  EKtot   =      1085.5808  EPtot      =     -6009.1386\n",
      "\n",
      " Etot   =     -4897.1107  EKtot   =      1141.0895  EPtot      =     -6038.2003\n",
      "\n",
      " Etot   =     -4911.9463  EKtot   =      1124.0748  EPtot      =     -6036.0211\n",
      "\n",
      " Etot   =     -4915.2124  EKtot   =      1158.5147  EPtot      =     -6073.7271\n",
      "\n",
      " Etot   =     -4877.7660  EKtot   =      1145.1642  EPtot      =     -6022.9302\n",
      "\n",
      " Etot   =     -4853.0504  EKtot   =      1157.7669  EPtot      =     -6010.8172\n",
      "\n",
      " Etot   =     -4857.4078  EKtot   =      1140.1941  EPtot      =     -5997.6019\n",
      "\n",
      " Etot   =     -4825.9871  EKtot   =      1144.6736  EPtot      =     -5970.6606\n",
      "\n",
      " Etot   =     -4812.0551  EKtot   =      1218.6534  EPtot      =     -6030.7084\n",
      "\n",
      " Etot   =     -4846.6835  EKtot   =      1162.8273  EPtot      =     -6009.5108\n",
      "\n",
      " Etot   =     -4846.4495  EKtot   =      1156.9143  EPtot      =     -6003.3638\n",
      "\n",
      " Etot   =     -4878.3125  EKtot   =      1178.7993  EPtot      =     -6057.1118\n",
      "\n",
      " Etot   =     -4932.9309  EKtot   =      1072.8259  EPtot      =     -6005.7568\n",
      "\n",
      " Etot   =     -4942.1183  EKtot   =      1126.2728  EPtot      =     -6068.3911\n",
      "\n",
      " Etot   =     -4939.3920  EKtot   =      1108.8692  EPtot      =     -6048.2612\n",
      "\n",
      " Etot   =     -4911.1468  EKtot   =      1135.9665  EPtot      =     -6047.1134\n",
      "\n",
      " Etot   =     -4917.1998  EKtot   =      1116.9609  EPtot      =     -6034.1606\n",
      "\n",
      " Etot   =     -4925.0586  EKtot   =      1115.9034  EPtot      =     -6040.9620\n",
      "\n",
      " Etot   =     -4901.7294  EKtot   =      1137.1820  EPtot      =     -6038.9114\n",
      "\n",
      " Etot   =     -4904.7184  EKtot   =      1158.9776  EPtot      =     -6063.6960\n",
      "\n",
      " Etot   =     -4881.9266  EKtot   =      1130.5089  EPtot      =     -6012.4354\n",
      "\n",
      " Etot   =     -4853.0225  EKtot   =      1155.2012  EPtot      =     -6008.2237\n",
      "\n",
      " Etot   =     -4887.5130  EKtot   =      1125.0252  EPtot      =     -6012.5382\n",
      "\n",
      " Etot   =     -4842.1109  EKtot   =      1189.3164  EPtot      =     -6031.4272\n",
      "\n",
      " Etot   =     -4846.9808  EKtot   =      1135.2638  EPtot      =     -5982.2446\n",
      "\n",
      " Etot   =     -4862.7402  EKtot   =      1137.5782  EPtot      =     -6000.3184\n",
      "\n",
      " Etot   =     -4851.7519  EKtot   =      1188.0306  EPtot      =     -6039.7825\n",
      "\n",
      " Etot   =     -4909.4545  EKtot   =      1110.6000  EPtot      =     -6020.0545\n",
      "\n",
      " Etot   =     -4914.8171  EKtot   =      1143.8270  EPtot      =     -6058.6441\n",
      "\n",
      " Etot   =     -4915.2172  EKtot   =      1123.1093  EPtot      =     -6038.3264\n",
      "\n",
      " Etot   =     -4930.1387  EKtot   =      1093.9832  EPtot      =     -6024.1219\n",
      "\n",
      " Etot   =     -4953.7774  EKtot   =      1110.6960  EPtot      =     -6064.4734\n",
      "\n",
      " Etot   =     -4901.9891  EKtot   =      1166.4576  EPtot      =     -6068.4467\n",
      "\n",
      " Etot   =     -4905.8510  EKtot   =      1144.2719  EPtot      =     -6050.1230\n",
      "\n",
      " Etot   =     -4926.3257  EKtot   =      1155.4826  EPtot      =     -6081.8083\n",
      "\n",
      " Etot   =     -4917.3863  EKtot   =      1107.0840  EPtot      =     -6024.4703\n",
      "\n",
      " Etot   =     -4942.2224  EKtot   =      1105.0908  EPtot      =     -6047.3132\n",
      "\n",
      " Etot   =     -4952.2746  EKtot   =      1099.5799  EPtot      =     -6051.8545\n",
      "\n",
      " Etot   =     -4916.1854  EKtot   =      1131.5027  EPtot      =     -6047.6881\n",
      "\n",
      " Etot   =     -4861.9952  EKtot   =      1156.2045  EPtot      =     -6018.1997\n",
      "\n",
      " Etot   =     -4877.2959  EKtot   =      1155.3038  EPtot      =     -6032.5997\n",
      "\n",
      " Etot   =     -4826.5819  EKtot   =      1179.8228  EPtot      =     -6006.4047\n",
      "\n",
      " Etot   =     -4876.5468  EKtot   =      1140.6782  EPtot      =     -6017.2250\n",
      "\n",
      " Etot   =     -4846.8424  EKtot   =      1185.5218  EPtot      =     -6032.3642\n",
      "\n",
      " Etot   =     -4843.3569  EKtot   =      1148.5807  EPtot      =     -5991.9376\n",
      "\n",
      " Etot   =     -4842.7350  EKtot   =      1174.3042  EPtot      =     -6017.0393\n",
      "\n",
      " Etot   =     -4834.5641  EKtot   =      1106.9421  EPtot      =     -5941.5063\n",
      "\n",
      " Etot   =     -4793.4512  EKtot   =      1159.1392  EPtot      =     -5952.5904\n",
      "\n",
      " Etot   =     -4854.0441  EKtot   =      1152.8717  EPtot      =     -6006.9158\n",
      "\n",
      " Etot   =     -4874.9529  EKtot   =      1122.4936  EPtot      =     -5997.4465\n",
      "\n",
      " Etot   =     -4835.5704  EKtot   =      1165.3086  EPtot      =     -6000.8790\n",
      "\n",
      " Etot   =     -4855.0431  EKtot   =      1166.7895  EPtot      =     -6021.8326\n",
      "\n",
      " Etot   =     -4865.4151  EKtot   =      1182.0428  EPtot      =     -6047.4579\n",
      "\n",
      " Etot   =     -4846.5908  EKtot   =      1169.1560  EPtot      =     -6015.7468\n",
      "\n",
      " Etot   =     -4807.5877  EKtot   =      1168.5380  EPtot      =     -5976.1258\n",
      "\n",
      " Etot   =     -4811.5955  EKtot   =      1160.8589  EPtot      =     -5972.4544\n",
      "\n",
      " Etot   =     -4835.6643  EKtot   =      1142.6002  EPtot      =     -5978.2645\n",
      "\n",
      " Etot   =     -4846.6731  EKtot   =      1150.0339  EPtot      =     -5996.7070\n",
      "\n",
      " Etot   =     -4851.4884  EKtot   =      1147.9846  EPtot      =     -5999.4731\n",
      "\n",
      " Etot   =     -4886.9112  EKtot   =      1108.7933  EPtot      =     -5995.7046\n",
      "\n",
      " Etot   =     -4858.1232  EKtot   =      1161.6061  EPtot      =     -6019.7293\n",
      "\n",
      " Etot   =     -4869.2450  EKtot   =      1154.3998  EPtot      =     -6023.6448\n",
      "\n",
      " Etot   =     -4907.4877  EKtot   =      1132.6969  EPtot      =     -6040.1845\n",
      "\n",
      " Etot   =     -4954.8636  EKtot   =      1087.0332  EPtot      =     -6041.8968\n",
      "\n",
      " Etot   =     -4942.2690  EKtot   =      1149.9614  EPtot      =     -6092.2304\n",
      "\n",
      " Etot   =     -5004.3931  EKtot   =      1102.4079  EPtot      =     -6106.8010\n",
      "\n",
      " Etot   =     -4980.6333  EKtot   =      1122.4469  EPtot      =     -6103.0802\n",
      "\n",
      " Etot   =     -4959.0934  EKtot   =      1137.0971  EPtot      =     -6096.1905\n",
      "\n",
      " Etot   =     -4942.9824  EKtot   =      1157.0460  EPtot      =     -6100.0284\n",
      "\n",
      " Etot   =     -4882.6145  EKtot   =      1154.5282  EPtot      =     -6037.1428\n",
      "\n",
      " Etot   =     -4857.1325  EKtot   =      1192.8486  EPtot      =     -6049.9810\n",
      "\n",
      " Etot   =     -4916.5311  EKtot   =      1096.4921  EPtot      =     -6013.0232\n",
      "\n",
      " Etot   =     -4894.3503  EKtot   =      1163.3876  EPtot      =     -6057.7379\n",
      "\n",
      " Etot   =     -4912.1722  EKtot   =      1132.7759  EPtot      =     -6044.9481\n",
      "\n",
      " Etot   =     -4912.5805  EKtot   =      1147.8627  EPtot      =     -6060.4431\n",
      "\n",
      " Etot   =     -4939.9299  EKtot   =      1102.8276  EPtot      =     -6042.7575\n",
      "\n",
      " Etot   =     -4923.4478  EKtot   =      1158.2560  EPtot      =     -6081.7038\n",
      "\n",
      " Etot   =     -4885.8822  EKtot   =      1144.4452  EPtot      =     -6030.3275\n",
      "\n",
      " Etot   =     -4879.1104  EKtot   =      1163.3720  EPtot      =     -6042.4825\n",
      "\n",
      " Etot   =     -4871.2521  EKtot   =      1175.4250  EPtot      =     -6046.6771\n",
      "\n",
      " Etot   =     -4846.9889  EKtot   =      1170.5849  EPtot      =     -6017.5738\n",
      "\n",
      " Etot   =     -4870.2887  EKtot   =      1145.9128  EPtot      =     -6016.2015\n",
      "\n",
      " Etot   =     -4814.2051  EKtot   =      1158.1589  EPtot      =     -5972.3640\n",
      "\n",
      " Etot   =     -4782.7933  EKtot   =      1190.2068  EPtot      =     -5973.0001\n",
      "\n",
      " Etot   =     -4827.9125  EKtot   =      1134.9835  EPtot      =     -5962.8960\n",
      "\n",
      " Etot   =     -4849.4257  EKtot   =      1124.3438  EPtot      =     -5973.7695\n",
      "\n",
      " Etot   =     -4896.8849  EKtot   =      1141.7436  EPtot      =     -6038.6285\n",
      "\n",
      " Etot   =     -4898.4300  EKtot   =      1132.8706  EPtot      =     -6031.3005\n",
      "\n",
      " Etot   =     -4887.3311  EKtot   =      1130.4066  EPtot      =     -6017.7377\n",
      "\n",
      " Etot   =     -4920.3260  EKtot   =      1104.1947  EPtot      =     -6024.5207\n",
      "\n",
      " Etot   =     -4929.5851  EKtot   =      1144.9144  EPtot      =     -6074.4995\n",
      "\n",
      " Etot   =     -4961.0590  EKtot   =      1091.1137  EPtot      =     -6052.1727\n",
      "\n",
      " Etot   =     -4904.5845  EKtot   =      1106.6025  EPtot      =     -6011.1870\n",
      "\n",
      " Etot   =     -4913.8577  EKtot   =      1115.6597  EPtot      =     -6029.5174\n",
      "\n",
      " Etot   =     -4893.3502  EKtot   =      1143.3865  EPtot      =     -6036.7367\n",
      "\n",
      " Etot   =     -4872.0999  EKtot   =      1153.7380  EPtot      =     -6025.8379\n",
      "\n",
      " Etot   =     -4799.1635  EKtot   =      1177.3542  EPtot      =     -5976.5177\n",
      "\n",
      " Etot   =     -4844.1789  EKtot   =      1158.1516  EPtot      =     -6002.3305\n",
      "\n",
      " Etot   =     -4857.2238  EKtot   =      1149.1284  EPtot      =     -6006.3522\n",
      "\n",
      " Etot   =     -4852.7959  EKtot   =      1186.6322  EPtot      =     -6039.4281\n",
      "\n",
      " Etot   =     -4937.0545  EKtot   =      1142.9892  EPtot      =     -6080.0437\n",
      "\n",
      " Etot   =     -4932.0827  EKtot   =      1121.4795  EPtot      =     -6053.5622\n",
      "\n",
      " Etot   =     -4903.7197  EKtot   =      1136.3490  EPtot      =     -6040.0687\n",
      "\n",
      " Etot   =     -4917.5152  EKtot   =      1142.1373  EPtot      =     -6059.6525\n",
      "\n",
      " Etot   =     -4917.0623  EKtot   =      1122.8661  EPtot      =     -6039.9284\n",
      "\n",
      " Etot   =     -4929.6231  EKtot   =      1086.2888  EPtot      =     -6015.9119\n",
      "\n",
      " Etot   =     -4911.2961  EKtot   =      1133.6946  EPtot      =     -6044.9908\n",
      "\n",
      " Etot   =     -4900.8126  EKtot   =      1120.5095  EPtot      =     -6021.3221\n",
      "\n",
      " Etot   =     -4872.0052  EKtot   =      1153.9815  EPtot      =     -6025.9867\n",
      "\n",
      " Etot   =     -4894.1473  EKtot   =      1148.3244  EPtot      =     -6042.4717\n",
      "\n",
      " Etot   =     -4926.5634  EKtot   =      1136.5345  EPtot      =     -6063.0979\n",
      "\n",
      " Etot   =     -4936.8213  EKtot   =      1129.0165  EPtot      =     -6065.8378\n",
      "\n",
      " Etot   =     -4873.3118  EKtot   =      1192.1822  EPtot      =     -6065.4940\n",
      "\n",
      " Etot   =     -4926.9161  EKtot   =      1161.7636  EPtot      =     -6088.6797\n",
      "\n",
      " Etot   =     -4915.6954  EKtot   =      1153.2963  EPtot      =     -6068.9917\n",
      "\n",
      " Etot   =     -4905.3008  EKtot   =      1113.6896  EPtot      =     -6018.9904\n",
      "\n",
      " Etot   =     -4890.1921  EKtot   =      1142.8928  EPtot      =     -6033.0849\n",
      "\n",
      " Etot   =     -4882.1300  EKtot   =      1137.2468  EPtot      =     -6019.3768\n",
      "\n",
      " Etot   =     -4916.5499  EKtot   =      1142.7167  EPtot      =     -6059.2666\n",
      "\n",
      " Etot   =     -4886.9469  EKtot   =      1174.7280  EPtot      =     -6061.6749\n",
      "\n",
      " Etot   =     -4850.5461  EKtot   =      1187.8815  EPtot      =     -6038.4276\n",
      "\n",
      " Etot   =     -4859.8111  EKtot   =      1178.1869  EPtot      =     -6037.9980\n",
      "\n",
      " Etot   =     -4846.7970  EKtot   =      1169.4701  EPtot      =     -6016.2671\n",
      "\n",
      " Etot   =     -4842.1241  EKtot   =      1127.2538  EPtot      =     -5969.3779\n",
      "\n",
      " Etot   =     -4858.2108  EKtot   =      1157.7298  EPtot      =     -6015.9406\n",
      "\n",
      " Etot   =     -4826.8505  EKtot   =      1200.6645  EPtot      =     -6027.5150\n",
      "\n",
      " Etot   =     -4795.8374  EKtot   =      1156.4190  EPtot      =     -5952.2564\n",
      "\n",
      " Etot   =     -4811.9221  EKtot   =      1145.7753  EPtot      =     -5957.6974\n",
      "\n",
      " Etot   =     -4888.6634  EKtot   =      1157.8273  EPtot      =     -6046.4907\n",
      "\n",
      " Etot   =     -4909.6700  EKtot   =      1159.9605  EPtot      =     -6069.6305\n",
      "\n",
      " Etot   =     -4933.4484  EKtot   =      1127.1949  EPtot      =     -6060.6433\n",
      "\n",
      " Etot   =     -4977.5063  EKtot   =      1106.4107  EPtot      =     -6083.9171\n",
      "\n",
      " Etot   =     -4992.3263  EKtot   =      1114.8974  EPtot      =     -6107.2237\n",
      "\n",
      " Etot   =     -4977.7844  EKtot   =      1121.8063  EPtot      =     -6099.5906\n",
      "\n",
      " Etot   =     -4966.7665  EKtot   =      1093.3124  EPtot      =     -6060.0789\n",
      "\n",
      " Etot   =     -4972.1345  EKtot   =      1120.5469  EPtot      =     -6092.6813\n",
      "\n",
      " Etot   =     -4947.9832  EKtot   =      1112.5787  EPtot      =     -6060.5619\n",
      "\n",
      " Etot   =     -4974.7886  EKtot   =      1100.3300  EPtot      =     -6075.1186\n",
      "\n",
      " Etot   =     -4973.9220  EKtot   =      1124.4914  EPtot      =     -6098.4134\n",
      "\n",
      " Etot   =     -4942.2304  EKtot   =      1128.9033  EPtot      =     -6071.1337\n",
      "\n",
      " Etot   =     -4943.4810  EKtot   =      1169.8876  EPtot      =     -6113.3687\n",
      "\n",
      " Etot   =     -4932.4172  EKtot   =      1129.1920  EPtot      =     -6061.6092\n",
      "\n",
      " Etot   =     -4962.9499  EKtot   =      1084.4417  EPtot      =     -6047.3917\n",
      "\n",
      " Etot   =     -4951.6520  EKtot   =      1099.1286  EPtot      =     -6050.7807\n",
      "\n",
      " Etot   =     -4942.7002  EKtot   =      1132.9007  EPtot      =     -6075.6010\n",
      "\n",
      " Etot   =     -4982.3862  EKtot   =      1101.7006  EPtot      =     -6084.0869\n",
      "\n",
      " Etot   =     -4983.9897  EKtot   =      1135.6977  EPtot      =     -6119.6874\n",
      "\n",
      " Etot   =     -4983.2188  EKtot   =      1120.4931  EPtot      =     -6103.7119\n",
      "\n",
      " Etot   =     -4997.9833  EKtot   =      1123.2681  EPtot      =     -6121.2514\n",
      "\n",
      " Etot   =     -5056.4832  EKtot   =      1085.7124  EPtot      =     -6142.1956\n",
      "\n",
      " Etot   =     -5022.3178  EKtot   =      1115.2622  EPtot      =     -6137.5800\n",
      "\n",
      " Etot   =     -4990.2883  EKtot   =      1097.3572  EPtot      =     -6087.6455\n",
      "\n",
      " Etot   =     -4955.9855  EKtot   =      1159.1187  EPtot      =     -6115.1042\n",
      "\n",
      " Etot   =     -4922.5797  EKtot   =      1135.3641  EPtot      =     -6057.9438\n",
      "\n",
      " Etot   =     -4918.2425  EKtot   =      1152.3084  EPtot      =     -6070.5510\n",
      "\n",
      " Etot   =     -4901.2145  EKtot   =      1136.5608  EPtot      =     -6037.7753\n",
      "\n",
      " Etot   =     -4864.5383  EKtot   =      1195.8037  EPtot      =     -6060.3420\n",
      "\n",
      " Etot   =     -4869.5219  EKtot   =      1174.5252  EPtot      =     -6044.0471\n",
      "\n",
      " Etot   =     -4922.5511  EKtot   =      1150.3541  EPtot      =     -6072.9052\n",
      "\n",
      " Etot   =     -4917.4126  EKtot   =      1156.7998  EPtot      =     -6074.2124\n",
      "\n",
      " Etot   =     -4928.8228  EKtot   =      1108.1430  EPtot      =     -6036.9657\n",
      "\n",
      " Etot   =     -4829.8013  EKtot   =      1143.4036  EPtot      =     -5973.2049\n",
      "\n",
      " Etot   =       120.4662  EKtot   =        26.3938  EPtot      =       116.6099\n",
      "\n"
     ]
    }
   ],
   "source": [
    "for line in data:\n",
    "    if 'Etot' in line:\n",
    "        energy_line = line\n",
    "        print(energy_line)"
   ]
  },
  {
   "cell_type": "code",
   "execution_count": 42,
   "id": "60c62e09-cbff-4f06-a7dc-a3824caffb3e",
   "metadata": {},
   "outputs": [
    {
     "name": "stdout",
     "output_type": "stream",
     "text": [
      "['Etot', '=', '120.4662', 'EKtot', '=', '26.3938', 'EPtot', '=', '116.6099']\n"
     ]
    }
   ],
   "source": [
    "words = energy_line.split()\n",
    "print(words)"
   ]
  },
  {
   "cell_type": "code",
   "execution_count": 44,
   "id": "d27c745d-7902-415b-a54d-0eb3a5e08ac1",
   "metadata": {},
   "outputs": [
    {
     "name": "stdout",
     "output_type": "stream",
     "text": [
      "EKtot\n"
     ]
    }
   ],
   "source": [
    "energy = words[3]\n",
    "print(energy)"
   ]
  },
  {
   "cell_type": "code",
   "execution_count": 45,
   "id": "823cd43f-f056-4a9d-874a-31a7a6ff6952",
   "metadata": {},
   "outputs": [
    {
     "data": {
      "text/plain": [
       "str"
      ]
     },
     "execution_count": 45,
     "metadata": {},
     "output_type": "execute_result"
    }
   ],
   "source": [
    "type(energy)"
   ]
  },
  {
   "cell_type": "code",
   "execution_count": 47,
   "id": "1e8d2ed5-da33-40fd-984d-92e04fcf7f5e",
   "metadata": {},
   "outputs": [],
   "source": [
    "import glob"
   ]
  },
  {
   "cell_type": "code",
   "execution_count": 48,
   "id": "622c34d7-22cd-4e59-8828-38ec84d98f89",
   "metadata": {},
   "outputs": [
    {
     "name": "stdout",
     "output_type": "stream",
     "text": [
      "data/*.out\n"
     ]
    }
   ],
   "source": [
    "file_location = os.path.join('data', '*.out')\n",
    "print(file_location)"
   ]
  },
  {
   "cell_type": "code",
   "execution_count": 49,
   "id": "ac5ca72d-2cef-4d74-a4d9-a32586539673",
   "metadata": {},
   "outputs": [],
   "source": [
    "file_name = os.path.basename(first_file)"
   ]
  },
  {
   "cell_type": "code",
   "execution_count": 50,
   "id": "9e8a5ca6-565b-42a3-ad5f-5bdd447527b0",
   "metadata": {},
   "outputs": [
    {
     "name": "stdout",
     "output_type": "stream",
     "text": [
      "propanol.out\n"
     ]
    }
   ],
   "source": [
    "print(file_name)"
   ]
  },
  {
   "cell_type": "code",
   "execution_count": 51,
   "id": "de16da16-c8d9-4ee4-b840-d5e6e9ec533d",
   "metadata": {},
   "outputs": [
    {
     "name": "stdout",
     "output_type": "stream",
     "text": [
      " propanol \t -193.1284\n",
      " pentanol \t -271.2014\n",
      " decanol \t -466.3836\n",
      " methanol \t -115.0480\n",
      " octanol \t -388.3111\n",
      " ethanol \t -154.0913\n",
      " hexanol \t -310.2385\n",
      " heptanol \t -349.2740\n",
      " butanol \t -232.1656\n",
      " nonanol \t -427.3465\n"
     ]
    }
   ],
   "source": [
    "for file in filenames:\n",
    "    file_name = os.path.basename(file)\n",
    "    split_filename = file_name.split('.')\n",
    "    molecule_name = split_filename[0]\n",
    "    \n",
    "    outfile = open(file, 'r')\n",
    "    data = outfile.readlines()\n",
    "    outfile.close()\n",
    "    for line in data:\n",
    "        if 'Final Energy' in line:\n",
    "            energy_line = line\n",
    "            words = energy_line.split()\n",
    "            energy = float(words[3])\n",
    "            print(F' {molecule_name} \\t {energy: .4f}')"
   ]
  },
  {
   "cell_type": "code",
   "execution_count": 52,
   "id": "a14497d3-de56-49a6-877b-8bf97f8a7eb7",
   "metadata": {},
   "outputs": [],
   "source": [
    "datafile = open('energies.txt', 'w+')\n",
    "for file in filenames:\n",
    "    file_name = os.path.basename(file)\n",
    "    split_filename = file_name.split('.')\n",
    "    molecule_name = split_filename[0]\n",
    "    \n",
    "    outfile = open(file, 'r')\n",
    "    data = outfile.readlines()\n",
    "    outfile.close()\n",
    "    for line in data:\n",
    "        if 'Final Energy' in line:\n",
    "            energy_line = line\n",
    "            words = energy_line.split()\n",
    "            energy = float(words[3])\n",
    "            datafile.write(F' {molecule_name} \\t {energy: .4f} \\n')\n",
    "datafile.close()"
   ]
  },
  {
   "cell_type": "code",
   "execution_count": null,
   "id": "853e0d00-6895-4f77-b00b-ea0c9212c182",
   "metadata": {},
   "outputs": [],
   "source": []
  }
 ],
 "metadata": {
  "kernelspec": {
   "display_name": "Python 3",
   "language": "python",
   "name": "python3"
  },
  "language_info": {
   "codemirror_mode": {
    "name": "ipython",
    "version": 3
   },
   "file_extension": ".py",
   "mimetype": "text/x-python",
   "name": "python",
   "nbconvert_exporter": "python",
   "pygments_lexer": "ipython3",
   "version": "3.8.8"
  }
 },
 "nbformat": 4,
 "nbformat_minor": 5
}
